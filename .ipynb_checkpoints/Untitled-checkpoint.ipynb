{
 "cells": [
  {
   "cell_type": "code",
   "execution_count": null,
   "id": "6f487084",
   "metadata": {},
   "outputs": [
    {
     "name": "stdout",
     "output_type": "stream",
     "text": [
      "Please insert your password:\n"
     ]
    }
   ],
   "source": [
    "def pwchecker():\n",
    "    print(\"Please insert your password:\")\n",
    "    mypwrd = input()\n",
    "\n",
    "    if type(mypwrd) == str and len(mypwrd) >= 8 and len(mypwrd) <= 14:\n",
    "            print(\"Great, You have successfully inserted your password\")\n",
    "    else:\n",
    "            print(\"Please insert a valid password\")\n",
    "            print(\"\"\"Password hint:\n",
    "                     password should be characters only and\n",
    "                     Password characters should not be less than 8 greater than 14\"\"\")\n",
    "pwchecker()"
   ]
  },
  {
   "cell_type": "code",
   "execution_count": null,
   "id": "9884cfa5",
   "metadata": {},
   "outputs": [],
   "source": []
  },
  {
   "cell_type": "code",
   "execution_count": null,
   "id": "688086fc",
   "metadata": {},
   "outputs": [],
   "source": []
  },
  {
   "cell_type": "code",
   "execution_count": null,
   "id": "59ab93c7",
   "metadata": {},
   "outputs": [],
   "source": []
  }
 ],
 "metadata": {
  "kernelspec": {
   "display_name": "Python 3 (ipykernel)",
   "language": "python",
   "name": "python3"
  },
  "language_info": {
   "codemirror_mode": {
    "name": "ipython",
    "version": 3
   },
   "file_extension": ".py",
   "mimetype": "text/x-python",
   "name": "python",
   "nbconvert_exporter": "python",
   "pygments_lexer": "ipython3",
   "version": "3.9.6"
  }
 },
 "nbformat": 4,
 "nbformat_minor": 5
}

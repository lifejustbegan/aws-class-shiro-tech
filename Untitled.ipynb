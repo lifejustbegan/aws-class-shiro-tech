{
 "cells": [
  {
   "cell_type": "code",
   "execution_count": null,
   "id": "eb929529",
   "metadata": {},
   "outputs": [],
   "source": [
    "def pwchecker():\n",
    "    mypwrd = input(print(\"Please insert your password:\"))\n",
    "\n",
    "    if mypwrd.isalpha() and len(mypwrd) >= 8 and len(mypwrd) <= 14:\n",
    "            print(\"Great, You have successfully inserted your password\")\n",
    "    else:\n",
    "            print(\"Please insert a valid password\")\n",
    "            print(\"\"\"Password hint:\n",
    "                     password should be characters only and\n",
    "                     Password characters should not be less than 8 greater than 14\"\"\")\n",
    "pwchecker()"
   ]
  },
  {
   "cell_type": "code",
   "execution_count": null,
   "id": "e20b2478",
   "metadata": {},
   "outputs": [],
   "source": []
  },
  {
   "cell_type": "code",
   "execution_count": null,
   "id": "b5aeae04",
   "metadata": {},
   "outputs": [],
   "source": []
  },
  {
   "cell_type": "code",
   "execution_count": null,
   "id": "ad563de4",
   "metadata": {},
   "outputs": [],
   "source": []
  }
 ],
 "metadata": {
  "kernelspec": {
   "display_name": "Python 3 (ipykernel)",
   "language": "python",
   "name": "python3"
  },
  "language_info": {
   "codemirror_mode": {
    "name": "ipython",
    "version": 3
   },
   "file_extension": ".py",
   "mimetype": "text/x-python",
   "name": "python",
   "nbconvert_exporter": "python",
   "pygments_lexer": "ipython3",
   "version": "3.9.6"
  }
 },
 "nbformat": 4,
 "nbformat_minor": 5
}
